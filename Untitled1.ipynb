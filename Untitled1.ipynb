{
 "cells": [
  {
   "cell_type": "code",
   "execution_count": 2,
   "metadata": {},
   "outputs": [
    {
     "name": "stdout",
     "output_type": "stream",
     "text": [
      "pygame 1.9.6\n",
      "Hello from the pygame community. https://www.pygame.org/contribute.html\n"
     ]
    }
   ],
   "source": [
    "import pygame"
   ]
  },
  {
   "cell_type": "code",
   "execution_count": 3,
   "metadata": {},
   "outputs": [],
   "source": [
    "#Basics Movements Boundaries and Jump\n",
    "\n",
    "import pygame\n",
    "pygame.init()\n",
    "\n",
    "screen = pygame.display.set_mode((500,500))\n",
    "pygame.display.set_caption(\"First Game\")\n",
    "\n",
    "isJump =True\n",
    "jump = 10\n",
    "\n",
    "x = 50\n",
    "y = 40\n",
    "height = 40\n",
    "width = 60\n",
    "vel = 50\n",
    "\n",
    "screenwidth = 500\n",
    "screenheight = 500\n",
    "run = True\n",
    "while run:\n",
    "    pygame.time.delay(100)\n",
    "    \n",
    "    for event in pygame.event.get():\n",
    "        if event.type == pygame.QUIT:\n",
    "            run = False\n",
    "            \n",
    "    keys = pygame.key.get_pressed()\n",
    "    \n",
    "    if keys[pygame.K_LEFT] and x>10:\n",
    "        x -= vel\n",
    "    if keys[pygame.K_RIGHT] and x<screenwidth-width-vel:\n",
    "        x +=vel\n",
    "        \n",
    "    if not(isJump):\n",
    "        if keys[pygame.K_UP] and y>vel:\n",
    "            y -=vel\n",
    "        if keys[pygame.K_DOWN] and y<screenheight-height-vel:\n",
    "            y +=vel   \n",
    "\n",
    "        if keys[pygame.K_SPACE]:\n",
    "            isJump= True\n",
    "    else:\n",
    "        if jump>= -10:\n",
    "            neg = 1\n",
    "            if jump<0:\n",
    "                neg=-1\n",
    "            y -= (jump**2) * 0.5 * neg\n",
    "            jump -=1\n",
    "        else:\n",
    "            isJump = False\n",
    "            jump= 10\n",
    "    screen.fill((0, 0, 0))\n",
    "    pygame.draw.rect(screen, (255, 0, 0), (x, y, width, height))\n",
    "    pygame.display.update()\n",
    "pygame.quit()"
   ]
  },
  {
   "cell_type": "code",
   "execution_count": null,
   "metadata": {},
   "outputs": [],
   "source": []
  }
 ],
 "metadata": {
  "kernelspec": {
   "display_name": "Python 3",
   "language": "python",
   "name": "python3"
  },
  "language_info": {
   "codemirror_mode": {
    "name": "ipython",
    "version": 3
   },
   "file_extension": ".py",
   "mimetype": "text/x-python",
   "name": "python",
   "nbconvert_exporter": "python",
   "pygments_lexer": "ipython3",
   "version": "3.7.1"
  }
 },
 "nbformat": 4,
 "nbformat_minor": 2
}
